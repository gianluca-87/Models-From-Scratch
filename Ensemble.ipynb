{
 "cells": [
  {
   "cell_type": "markdown",
   "metadata": {},
   "source": [
    "# Ensemble Models For Target Pregnancy Prediction Problem"
   ]
  },
  {
   "cell_type": "markdown",
   "metadata": {},
   "source": [
    "This notebook is a follow-up to the first one, using linear models. In this notebook we will work on the same problem using enseble methods, namely bagging and boosting of simple stump predictors.\n",
    "\n",
    "As weak learners we will use *stumps*. A *stump* is the most basic form of decision tree: it is based on only one feature and, in our case, it classifies an instance as pregnant or not pregant based on the binary value of the feature. For instance, a stump using the variable x = **Birth Control** would predict 1 (pregnant) if x = 1 and 0 otherwise.\n",
    "\n",
    "### Summary\n",
    "1. Import Necesessary Modules\n",
    "2. Define The `Stump` Class Implementing Basic Stump Predictor\n",
    "3. Define Teh `Bag` Class, a Boosting Aggregator of Stumps\n",
    "4. Define The `Boost` Class, an Ada-Booster of Stumps\n",
    "5. Use Case: Predicting Pregnancy On The Target Data Set\n",
    "    * 4.1. Simple Stump\n",
    "    * 4.2. Bagging\n",
    "    * 4.3. AdaBoost\n",
    "6. Conclusions"
   ]
  },
  {
   "cell_type": "markdown",
   "metadata": {},
   "source": [
    "## Import all necesessary modules"
   ]
  },
  {
   "cell_type": "code",
   "execution_count": 1,
   "metadata": {},
   "outputs": [],
   "source": [
    "import numpy as np\n",
    "import pandas as pd\n",
    "import matplotlib.pyplot as plt\n",
    "import seaborn as sns"
   ]
  },
  {
   "cell_type": "markdown",
   "metadata": {},
   "source": [
    "## 2. Define The `Stump` Class Implementing Basic Stump Predictor"
   ]
  },
  {
   "cell_type": "markdown",
   "metadata": {},
   "source": [
    "The class implements a basic stump predictor, i.e. a tree that accepts only one binary feature as input and returns the predicted value of $y$. It has two methods: `fit` and `predict`. The `fit` method decides which value of x is the best predictor of the event $\\{y = 1\\}$ based on the *pregnancy rate* in the subsets $\\{x = 0\\}$ and $\\{x = 1\\}$, then it computes the Gini coefficient for this predictor. The `predict` method returns $x$ if the fitted model is $x=1 \\rightarrow y=1$, $1-x$ otherwise.\n"
   ]
  },
  {
   "cell_type": "code",
   "execution_count": 9,
   "metadata": {},
   "outputs": [],
   "source": [
    "class Stump:\n",
    "    \"\"\"\n",
    "    Accepts only one binary feature x with values in {0, 1}.\n",
    "    \"\"\"\n",
    "    \n",
    "    def __init__(self):\n",
    "        self.vote = None\n",
    "        self.Gini = None\n",
    "    \n",
    "    def fit(self, x, y):\n",
    "        p0 = np.sum(y[x==0]) / np.sum(x==0)\n",
    "        p1 = np.sum(y[x==1]) / np.sum(x==1)\n",
    "        w0 = np.sum(x==0) / len(x)        \n",
    "        g0 = 2 * p0 * (1 - p0)\n",
    "        g1 = 2 * p1 * (1 - p1)\n",
    "        \n",
    "        self.Gini = w0 * g0 + (1 - w0) * g1        \n",
    "        self.vote = 1 if p0 <= p1 else 0\n",
    "\n",
    "    def predict(self, x):\n",
    "        # if x == 1 predicts y == 1 and just returns x\n",
    "        # otherwise flip 0s and 1s\n",
    "        assert (self.vote != None)\n",
    "        if self.vote:\n",
    "            return x\n",
    "        else:\n",
    "            return 1 - x"
   ]
  },
  {
   "cell_type": "markdown",
   "metadata": {},
   "source": [
    "## 3. Define The `Bag` Class, a Boosting Aggregator of Stumps"
   ]
  },
  {
   "cell_type": "markdown",
   "metadata": {},
   "source": [
    "The class impleents a bagging of stumps. The`fit` method performs the following:\n",
    "\n",
    "* Extract a random subsample of rows and colums from $X$\n",
    "* for $i = 1...N$:\n",
    "    * extract from the subsample 4 features and fit a stump to each one\n",
    "    * choose the one with whe lowest Gini and keep it\n",
    "* At the end of the process we have $N$ weak learners stored in the `stumps` attribute.\n",
    " \n",
    "The `predict` method aggregates each stump's prediction in the following manner:\n",
    "\n",
    "* Let each stump predict based on his own feature\n",
    "* For each observation sum the predicted values\n",
    "* Assign the bagged predicted value equal to the majority vote"
   ]
  },
  {
   "cell_type": "code",
   "execution_count": 10,
   "metadata": {},
   "outputs": [],
   "source": [
    "class Bag:\n",
    "    def __init__(self, num_cols=None, num_rows=None):\n",
    "        self.num_cols = num_cols\n",
    "        self.num_rows = num_rows\n",
    "        self.stumps = []        \n",
    "            \n",
    "    def fit(self, X, y, num_learners=100):\n",
    "        if self.num_cols == None:\n",
    "            self.num_cols = np.int(np.floor(np.sqrt(X.shape[1])))\n",
    "            \n",
    "        if self.num_rows == None:\n",
    "            self.num_rows = np.int(np.floor(0.66 * X.shape[0]))\n",
    "                   \n",
    "        assert self.num_cols > 0\n",
    "        assert self.num_rows > 0\n",
    "        assert num_learners > 0\n",
    "       \n",
    "        # num_learners trials to choose best stump (based on Gini index) from 4 to add to weak learners list\n",
    "        num_contestants = min(4, self.num_cols)\n",
    "        for i in range(num_learners):\n",
    "            col_sample = np.random.choice(range(X.shape[1]), size=self.num_cols, replace=False)\n",
    "            contestant_cols = np.random.choice(col_sample, size=num_contestants, replace=False)\n",
    "\n",
    "            X_sample = X.sample(n=self.num_rows).iloc[:, contestant_cols]\n",
    "            y_sample = y[X_sample.index]\n",
    " \n",
    "            contestants = []\n",
    "            Gini = []\n",
    "            \n",
    "            for j in range(num_contestants):\n",
    "                c = Stump()\n",
    "                c.fit(X_sample.iloc[:, j], y_sample)\n",
    "                contestants.append(c)\n",
    "                Gini.append(c.Gini)\n",
    "                               \n",
    "            # choose stump with lower Gini inpurity\n",
    "            winner_index = np.argmin(Gini)\n",
    "            \n",
    "            # save stump and relative feature number as a pair\n",
    "            self.stumps.append((contestants[winner_index], contestant_cols[winner_index]))\n",
    "            \n",
    "    def predict(self, X, probs=True):\n",
    "        votes = np.zeros(X.shape[0])\n",
    "        for stump, col in self.stumps:\n",
    "            votes += stump.predict(X.iloc[:, col])\n",
    "        votes /= len(self.stumps)     \n",
    "        if probs:\n",
    "            return votes       \n",
    "        else:\n",
    "            return (votes >= 0.5).astype(int)"
   ]
  },
  {
   "cell_type": "markdown",
   "metadata": {},
   "source": [
    "## 4. Define The `Boost` Class, an Ada-Booster of Stumps"
   ]
  },
  {
   "cell_type": "markdown",
   "metadata": {},
   "source": [
    "The class implements AdaBoost for stumps.\n",
    "The `fit` performs the basic AdaBoost algorithm (for details on the algorithm see for example [here](https://en.wikipedia.org/wiki/AdaBoost)):\n",
    "\n",
    "* Start with equal weights $w_i = 1/N$ where $N$ is the number of observations\n",
    "* While **Features** not empty:\n",
    "    * Fit a stump to each feature in **Features**\n",
    "    * Choose the one with lower exponential loss\n",
    "    * Save it along with it's $\\alpha$\n",
    "    * Update weights inflating the observations where the chosen stump makes a wrong prediction\n",
    "    * Discard the chosen feature from the **Features** list\n",
    "\n",
    "\n",
    "At the end of the process we have $M$ weak learners stored in the `stumps` attribute (where $M$ denotes the number of features).\n",
    " \n",
    "The `predict` method aggregates each stump's prediction in the following manner:\n",
    "\n",
    "* Let each stump predict based on his own feature (rescale predictions on {-1,1} for convenience)\n",
    "* Aggregate predictions weighted by their $\\alpha$: $\\hat{y_i} = F(x_i) = \\sum_{k=1}^{M} \\alpha_k S_k(x_i)$\n",
    "+ Assign the bagged predicted value equal to 1 if $\\hat{y_i}$ is positive, 0 if negative \n"
   ]
  },
  {
   "cell_type": "code",
   "execution_count": 11,
   "metadata": {},
   "outputs": [],
   "source": [
    "class Boost:\n",
    "    def __init__(self):\n",
    "        self.stumps = []\n",
    "    \n",
    "    def fit(self, X, y, tol=-np.inf):        \n",
    "        # initializes uniform weights\n",
    "        weights = np.ones(X.shape[0]) / X.shape[0]\n",
    "        columns = [i for i in  range(X.shape[1])]\n",
    "        contestants = [Stump() for _ in columns]\n",
    "\n",
    "        while contestants:\n",
    "            weighted_error = []\n",
    "            for i in range(len(columns)):\n",
    "                contestants[i].fit(X.iloc[:, columns[i]], y)\n",
    "                weighted_error.append(np.sum(weights[y != contestants[i].predict(X.iloc[:, columns[i]])]))\n",
    "           \n",
    "            winner_index = np.argmin(weighted_error)   \n",
    "            alpha = 0.5 * np.log((1-weighted_error[winner_index])/weighted_error[winner_index])\n",
    "        \n",
    "            wrong = (y != contestants[winner_index].predict(X.iloc[:, columns[winner_index]]))\n",
    "            weights *= np.exp(alpha * wrong)\n",
    "            weights /= np.sum(weights)\n",
    "                        \n",
    "            self.stumps.append((contestants.pop(winner_index), columns.pop(winner_index), alpha))\n",
    "\n",
    "            if np.abs(weighted_error[winner_index] / 0.5 - 1) < tol:\n",
    "                break\n",
    "                        \n",
    "\n",
    "    def predict(self, X, score=True):\n",
    "        votes = np.zeros(X.shape[0])\n",
    "        for stump, col, alpha in self.stumps:\n",
    "            # adds stump's weighted prediction:\n",
    "            # alpha if 1 predicted, -alpha if 0 predicted\n",
    "            votes += alpha * (2 * stump.predict(X.iloc[:, col]) - 1)\n",
    "            \n",
    "            if score:\n",
    "                return votes\n",
    "            else:\n",
    "                return (votes >= 0).astype(int)\n",
    "        return votes"
   ]
  },
  {
   "cell_type": "markdown",
   "metadata": {},
   "source": [
    "## 5. Use Case: Predicting Pregnancy On The Target Data Set"
   ]
  },
  {
   "cell_type": "markdown",
   "metadata": {},
   "source": [
    "See part 1 for data analysis and manipulation."
   ]
  },
  {
   "cell_type": "code",
   "execution_count": 2,
   "metadata": {},
   "outputs": [],
   "source": [
    "# load dataset\n",
    "preg = pd.read_excel('RetailMart.xlsx')\n",
    "preg.drop('Unnamed: 17', inplace=True, axis=1)"
   ]
  },
  {
   "cell_type": "code",
   "execution_count": 3,
   "metadata": {},
   "outputs": [],
   "source": [
    "preg['Male'] = (preg['Implied Gender'] == 'M').astype(int)\n",
    "preg.drop(['Implied Gender', 'Home/Apt/ PO Box'], axis=1, inplace=True)\n",
    "X = preg.drop('PREGNANT', axis=1)\n",
    "y = preg['PREGNANT']"
   ]
  },
  {
   "cell_type": "markdown",
   "metadata": {},
   "source": [
    "### 4.1. Simple Stump"
   ]
  },
  {
   "cell_type": "markdown",
   "metadata": {},
   "source": [
    "It comes as no surprise that stumps are weak learners with accuracy and AUC slightly better than 50%."
   ]
  },
  {
   "cell_type": "code",
   "execution_count": 12,
   "metadata": {},
   "outputs": [],
   "source": [
    "# split train and test datasets\n",
    "dim_train = 330\n",
    "dim_test = 170 # c.a. 2/3 train, 1/3 test for each value of PREGNANT\n",
    "\n",
    "X_train0 = X[y==0].sample(n=dim_train)\n",
    "X_test0 = X[y==0].drop(X_train0.index, axis=0)\n",
    "\n",
    "X_train1 = X[y==1].sample(n=dim_train)\n",
    "X_test1 = X[y==1].drop(X_train1.index, axis=0)\n",
    "\n",
    "X_train = X_train0.append(X_train1)\n",
    "X_test = X_test0.append(X_test1)\n",
    "y_train= y[X_train.index]\n",
    "y_test = y[X_test.index]"
   ]
  },
  {
   "cell_type": "code",
   "execution_count": 15,
   "metadata": {},
   "outputs": [],
   "source": [
    "# helper function to compute AUC and draw ROC curve\n",
    "def auc(score, y_test, lower=-3, upper=3, bins=100, print_curve=False):\n",
    "    s = np.linspace(lower, upper, bins)\n",
    "    xx = []\n",
    "    yy = []\n",
    "\n",
    "    for cutoff in s:\n",
    "        y_hat = (score > cutoff).astype(int)\n",
    "        xx.append(sum(y_hat[y_test==0]==1) / sum(y_test==0))\n",
    "        yy.append(sum(y_hat[y_test==1]==1) / sum(y_test==1))\n",
    "    area=0\n",
    "    for i in range(1, len(xx)):\n",
    "        area += 0.5 * np.abs(xx[i] - xx[i-1]) * (yy[i-1] + yy[i])\n",
    "\n",
    "    if print_curve:\n",
    "        plt.plot(xx,yy)\n",
    "        plt.fill_between(xx,yy, alpha=0.05)\n",
    "        plt.xlim([0,1])\n",
    "        plt.ylim([0,1])\n",
    "        plt.xlabel(\"FPR (1 - specificity)\")\n",
    "        plt.ylabel(\"TPR (sensitivity)\")\n",
    "        plt.text(0.5,0.5,'AUC = {:.2f}%'.format(area*100), fontsize=16)\n",
    "    else:\n",
    "        return area"
   ]
  },
  {
   "cell_type": "code",
   "execution_count": 17,
   "metadata": {},
   "outputs": [],
   "source": [
    "stump = Stump()\n",
    "stump.fit(X_train['Pregnancy Test'], y_train)\n",
    "p_hat = stump.predict(X_test['Pregnancy Test'])"
   ]
  },
  {
   "cell_type": "code",
   "execution_count": 18,
   "metadata": {},
   "outputs": [
    {
     "name": "stdout",
     "output_type": "stream",
     "text": [
      "Accuracy(% correctly classified) = 56.47%\n"
     ]
    }
   ],
   "source": [
    "y_hat = (p_hat > 0.5).astype(int)\n",
    "Accuracy = np.mean(y_hat == y_test) # Accuracy\n",
    "print('Accuracy(% correctly classified) = {:.2f}%'.format(Accuracy * 100))"
   ]
  },
  {
   "cell_type": "code",
   "execution_count": 19,
   "metadata": {},
   "outputs": [
    {
     "data": {
      "image/png": "[encoded data removed]",
      "text/plain": [
       "<Figure size 432x288 with 1 Axes>"
      ]
     },
     "metadata": {
      "needs_background": "light"
     },
     "output_type": "display_data"
    }
   ],
   "source": [
    "auc(p_hat,y_test,-1,1,100,True)"
   ]
  },
  {
   "cell_type": "markdown",
   "metadata": {},
   "source": [
    "## 4.2. Bagging"
   ]
  },
  {
   "cell_type": "markdown",
   "metadata": {},
   "source": [
    "The first enseble algorithm we try is bagging (*boosting aggregating*). We can see that performance strongly improves when compared to each individual stump."
   ]
  },
  {
   "cell_type": "code",
   "execution_count": 20,
   "metadata": {
    "scrolled": true
   },
   "outputs": [],
   "source": [
    "rstump = Bag()\n",
    "rstump.fit(X_train, y_train)\n",
    "p_hat = rstump.predict(X_test)"
   ]
  },
  {
   "cell_type": "code",
   "execution_count": 21,
   "metadata": {},
   "outputs": [
    {
     "name": "stdout",
     "output_type": "stream",
     "text": [
      "Accuracy(% correctly classified) = 71.18%\n"
     ]
    }
   ],
   "source": [
    "y_hat = (p_hat > 0.5).astype(int)\n",
    "Accuracy = np.mean(y_hat == y_test) # Accuracy\n",
    "print('Accuracy(% correctly classified) = {:.2f}%'.format(Accuracy * 100))"
   ]
  },
  {
   "cell_type": "code",
   "execution_count": 22,
   "metadata": {},
   "outputs": [
    {
     "data": {
      "image/png": "[encoded data removed]",
      "text/plain": [
       "<Figure size 432x288 with 1 Axes>"
      ]
     },
     "metadata": {
      "needs_background": "light"
     },
     "output_type": "display_data"
    }
   ],
   "source": [
    "auc(p_hat,y_test,-3,3,100,True)"
   ]
  },
  {
   "cell_type": "markdown",
   "metadata": {},
   "source": [
    "## 4.3. AdaBoost"
   ]
  },
  {
   "cell_type": "markdown",
   "metadata": {},
   "source": [
    "Now let us try AdaBoost. AdaBoost weighs learners based on where they are more right so it should be *smarter* than a simple bagging."
   ]
  },
  {
   "cell_type": "code",
   "execution_count": 23,
   "metadata": {},
   "outputs": [],
   "source": [
    "bstump = Boost()\n",
    "rstump.fit(X_train, y_train)\n",
    "p_hat = rstump.predict(X_test)"
   ]
  },
  {
   "cell_type": "code",
   "execution_count": 24,
   "metadata": {},
   "outputs": [
    {
     "name": "stdout",
     "output_type": "stream",
     "text": [
      "Accuracy(% correctly classified) = 70.59%\n"
     ]
    }
   ],
   "source": [
    "y_hat = (p_hat > 0.5).astype(int)\n",
    "Accuracy = np.mean(y_hat == y_test) # Accuracy\n",
    "print('Accuracy(% correctly classified) = {:.2f}%'.format(Accuracy * 100))"
   ]
  },
  {
   "cell_type": "code",
   "execution_count": 25,
   "metadata": {
    "scrolled": false
   },
   "outputs": [
    {
     "data": {
      "image/png": "[encoded data removed]",
      "text/plain": [
       "<Figure size 432x288 with 1 Axes>"
      ]
     },
     "metadata": {
      "needs_background": "light"
     },
     "output_type": "display_data"
    }
   ],
   "source": [
    "auc(p_hat,y_test,-3,3,100,True)"
   ]
  },
  {
   "cell_type": "markdown",
   "metadata": {},
   "source": [
    "In fact the AUC increases slightly. It must be considered that we do not have that many features so there is not much boosting can do that bagging cannot."
   ]
  },
  {
   "cell_type": "markdown",
   "metadata": {},
   "source": [
    "## 6. Conclusions\n",
    "\n",
    "After exploring our data set with both classical and *Machine-Learning* algorithms we can draw some (partial) conclusions:\n",
    "\n",
    "- The best model was actually the simplest one, linear regression\n",
    "- ML algorithms do not outperformed classical ones\n",
    "- It must be noted, however, that bagging and boosting worked with extremely week learners. It is to be expected that a more refined bagging or boosting version (e.g. a Random Forest) would perform much better\n",
    "- Also, consider the data set was simulated (probabily with a logistic)"
   ]
  },
  {
   "cell_type": "markdown",
   "metadata": {},
   "source": [
    "I hope this notebooks were helpful. For more material on ML and Data Science check out my [blog](https://littlehelperscorner.wordpress.com/) and\n",
    "\n",
    "<h2>Thank you for reading!</h2>"
   ]
  }
 ],
 "metadata": {
  "kernelspec": {
   "display_name": "Python 3",
   "language": "python",
   "name": "python3"
  },
  "language_info": {
   "codemirror_mode": {
    "name": "ipython",
    "version": 3
   },
   "file_extension": ".py",
   "mimetype": "text/x-python",
   "name": "python",
   "nbconvert_exporter": "python",
   "pygments_lexer": "ipython3",
   "version": "3.7.9"
  }
 },
 "nbformat": 4,
 "nbformat_minor": 4
}
