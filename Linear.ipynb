{
 "cells": [
  {
   "cell_type": "markdown",
   "metadata": {},
   "source": [
    "# Linear Models For Target Pregnancy Prediction Problems"
   ]
  },
  {
   "cell_type": "markdown",
   "metadata": {},
   "source": [
    "This notebook presents basic from-scratcj implementations of linear and logistic regression, and applies the models to the Target data set presented in *Data Smart: Using Data Science to Transform Information into Insight Smart* by John W. Foreman (Wiley, 2020, chapter 6). The data sets contains features on customer behaviour and labels each observation as pregnant (PREGNANT = 1) or not pregnant (PREGNANT = 0). The observations are balanced, with 500 positives and 500 negatives.\n",
    "\n",
    "In the following we will presents the two classes implementing linear and logistic regression, quickly analize the data set (it is already cleaned) and train the models. Finally we will compare the perfomarmances.\n",
    "\n",
    "There is a second notebook in the same folder that uses that same data set with ensemble methods (bagging and boosting)."
   ]
  },
  {
   "cell_type": "markdown",
   "metadata": {},
   "source": [
    "### Summary\n",
    "1. Import Necesessary Modules\n",
    "2. Define The `LinReg` Class Implementing Linear Regression\n",
    "3. Define  `LogReg` Class Implementing Logistic Regression\n",
    "4. Use Case: Predicting Pregnancy On The Target Data Set\n",
    "    * 4.1. Univariate Analysis\n",
    "    * 4.2. Feature Manipulaton\n",
    "    * 4.3. Linear Probability Model (LPM)\n",
    "    * 4.4. Simple Logistic Regression\n",
    "    * 4.5. Logistic Regression With Hyper-parameter Optimization\n",
    "5. Conclusions"
   ]
  },
  {
   "cell_type": "markdown",
   "metadata": {},
   "source": [
    "## 1. Import Necesessary Modules"
   ]
  },
  {
   "cell_type": "code",
   "execution_count": 2,
   "metadata": {},
   "outputs": [],
   "source": [
    "import numpy as np\n",
    "from scipy import stats\n",
    "import pandas as pd\n",
    "import matplotlib.pyplot as plt\n",
    "import seaborn as sns"
   ]
  },
  {
   "cell_type": "markdown",
   "metadata": {},
   "source": [
    "## 2. Define The `LinReg` Class Implementing Linear Regression"
   ]
  },
  {
   "cell_type": "markdown",
   "metadata": {},
   "source": [
    "The class has two methods: `fit` and `predict`. `fit` accepts the disign matrix $X$ whose columns (that have to include the intercept) represent the regressor and a target variable vector $y$. Everything is supposed to be a Pandas dataframe. `predict` only takes in the predictor matrix and returns the predicted values as a Pandas series.\n",
    "\n",
    " - Once a `LinReg` object is fitted attributes like betas, standard errors, p-values and so on are available.\n",
    "\n",
    " - Coefficients are estimated via OLS closed form: $\\hat{\\beta} = (X^T X)^{-1} X^T y$\n",
    " \n",
    " - Standard errors are heteroscedasticity-consistent (Huber-White): $s.e. = (X^T X)^{-1} (X^T diag(\\hat{u}_1^2,...,\\hat{u}_n^2) X) (X^T X)^{-1}$, where $\\hat{u_i}$ denotes the residual relative to the $i-$th observation.\n",
    "\n"
   ]
  },
  {
   "cell_type": "code",
   "execution_count": 2,
   "metadata": {},
   "outputs": [],
   "source": [
    "class LinReg():\n",
    "    \"\"\"\n",
    "    Implements OLS for multiple regression. \n",
    "    ======\n",
    "    \n",
    "    The `fit` method expects :\n",
    "        \n",
    "    * A numpy array of regressors X with observations on the rows and covariats on the columns.\n",
    "    \n",
    "    * Intercept must be included in the first column as a series of 1s.\n",
    "    \"\"\"\n",
    "    def __init__(self):\n",
    "        self.X = None\n",
    "        self.beta = None\n",
    "        self.cov = None\n",
    "        self.se = None\n",
    "        self.t = None\n",
    "        self.p = None\n",
    "        self.dof = None\n",
    "        self.R2 = None\n",
    "        self.R2_adj = None\n",
    "        self.F = None\n",
    "    \n",
    "    def fit(self, X, y):\n",
    "        \"\"\"\n",
    "        Fits OLS estimator. Uses White standard errors.\n",
    "        \"\"\"\n",
    "        assert len(X) == len(y)\n",
    "        design_inv = np.linalg.inv(np.dot(X.T, X)) \n",
    "        \n",
    "        self.beta = np.dot(np.dot(design_inv, X.T), y)    \n",
    "        self.dof = X.shape[0] - X.shape[1]           \n",
    "            \n",
    "        self.TSS_ = np.sum((y - np.mean(y)) ** 2)\n",
    "        \n",
    "        u2 = (self.predict(X) - y) ** 2      \n",
    "        self.RSS_ = np.sum(u2)\n",
    "        self.R2 = 1 - self.RSS_ / self.TSS_\n",
    "        self.R2_adj = 1 - (1 - self.R2) * (X.shape[0]-1) / self.dof\n",
    "        self.F = (self.TSS_ / self.RSS_ - 1) / (X.shape[0] - 1) * self.dof\n",
    "        \n",
    "        self.cov = np.dot(design_inv, np.dot(np.dot(X.T, np.dot(np.diag(u2), X)), design_inv))\n",
    "        self.se = np.sqrt(np.diag(self.cov))\n",
    "        self.t = self.beta / self.se\n",
    "        self.p = 2 * stats.t.cdf(-np.abs(self.t), df=self.dof)\n",
    "        \n",
    "    def predict(self, X):\n",
    "        \"\"\"\n",
    "        Predicts y based on X\n",
    "        \"\"\"\n",
    "        return np.dot(X, self.beta)"
   ]
  },
  {
   "cell_type": "markdown",
   "metadata": {},
   "source": [
    "## 3. Define  `LogReg` Class Implementing Logistic Regression"
   ]
  },
  {
   "cell_type": "markdown",
   "metadata": {},
   "source": [
    "The class has two public methods: `fit` and `predict`. `fit` accepts the disign matrix $X$ whose columns (that have to include the intercept) represent the regressor and a target variable vector $y$. Everything is supposed to be a Pandas dataframe. `predict` only takes in the predictor matrix and returns the predicted values as a Pandas series. If the argument `probs` is set to `False` the score is returned, otherwise (by default) probabilities are returned.\n",
    "\n",
    "- `fit` estimates coeffients via gradient descent with optional Ridge regularization: \n",
    "    - The parameter `alpha` is the Ridge parameter (default is 0, *i.e.*, no regularization)\n",
    "    - The parameter `gamma` is the learning rate for gradient descent\n",
    "\n",
    "\n",
    "The static methods, `logL_` and `grad_logL_` compute the log-likelihood and its gradient. They are meant as helper functions, but are also available to the user if necessary."
   ]
  },
  {
   "cell_type": "code",
   "execution_count": 3,
   "metadata": {},
   "outputs": [],
   "source": [
    "class LogReg():\n",
    "    \"\"\"\n",
    "    Implements Logistic regression. \n",
    "    ======\n",
    "    \n",
    "    The `fit` method expects :\n",
    "        \n",
    "    * A numpy array of regressors X with observations on the rows and covariats on the columns.\n",
    "    \n",
    "    * Intercept must be included in the first column as a series of 1s.\n",
    "    \"\"\"\n",
    "    def __init__(self):\n",
    "        self.X = None\n",
    "        self.beta = None\n",
    "        self.logL = None\n",
    "\n",
    "    \n",
    "    @staticmethod\n",
    "    def logL_(X, y, b, alpha=0):\n",
    "        \"\"\"\n",
    "        Static method computing the log-likelihood\n",
    "        \"\"\"\n",
    "        assert alpha >= 0\n",
    "        p = 1 / (1 + np.exp(-np.dot(X, b)))\n",
    "        return (np.sum(y * np.log(p)) + np.sum((1-y) * np.log(1-p)) - 0.5 * alpha * np.dot(b, b)) / X.shape[0]\n",
    "\n",
    "    @staticmethod\n",
    "    def grad_logL_(X, y, b, alpha=0):\n",
    "        \"\"\"\n",
    "        Static method computing the gradient of the log-likelihood\n",
    "        \"\"\"\n",
    "        assert alpha >= 0\n",
    "        p = 1 / (1 + np.exp(-np.dot(X, b)))\n",
    "        return (np.dot(X.T, y - p) - alpha * b) / X.shape[0]\n",
    "    \n",
    "    def fit(self, X, y, alpha=0, gamma=0.01, max_iter=10000, tol=0.001):\n",
    "        \"\"\"\n",
    "        Fits logistic regression by maximizing the log-likelihood.\n",
    "        If alpha > 0 uses L^2 regularization (i.e. Ridge regression)\n",
    "        with learning rate gamma.\n",
    "        \"\"\"\n",
    "        assert len(X) == len(y)\n",
    "        \n",
    "        # initialize coeffs as OLS estimate\n",
    "        self.beta = np.dot(np.dot(np.linalg.inv(np.dot(X.T, X)), X.T), y)\n",
    "        for i in range(max_iter):\n",
    "            grad = LogReg.grad_logL_(X, y, self.beta, alpha)\n",
    "            if np.linalg.norm(grad) < tol:\n",
    "                break\n",
    "            else:\n",
    "                self.beta += gamma * grad\n",
    "        self.logL = LogReg.logL_(X, y, self.beta, alpha)\n",
    "        \n",
    "\n",
    "        \n",
    "    def predict(self, X, probs=True):\n",
    "        \"\"\"\n",
    "        Predicts y based on X. if probs=True returns proabilities, otherwise \n",
    "        returns the score.\n",
    "        \"\"\"\n",
    "        if probs:\n",
    "            return 1 / (1 + np.exp(-np.dot(X, self.beta)))\n",
    "        else:\n",
    "            return np.dot(X, self.beta)"
   ]
  },
  {
   "cell_type": "markdown",
   "metadata": {},
   "source": [
    "## 4. Use Case: Predicting Pregnancy On The Target Data Set"
   ]
  },
  {
   "cell_type": "code",
   "execution_count": 2,
   "metadata": {
    "scrolled": true
   },
   "outputs": [
    {
     "data": {
      "text/html": [
       "<div>\n",
       "<style scoped>\n",
       "    .dataframe tbody tr th:only-of-type {\n",
       "        vertical-align: middle;\n",
       "    }\n",
       "\n",
       "    .dataframe tbody tr th {\n",
       "        vertical-align: top;\n",
       "    }\n",
       "\n",
       "    .dataframe thead th {\n",
       "        text-align: right;\n",
       "    }\n",
       "</style>\n",
       "<table border=\"1\" class=\"dataframe\">\n",
       "  <thead>\n",
       "    <tr style=\"text-align: right;\">\n",
       "      <th></th>\n",
       "      <th>Implied Gender</th>\n",
       "      <th>Home/Apt/ PO Box</th>\n",
       "      <th>Pregnancy Test</th>\n",
       "      <th>Birth Control</th>\n",
       "      <th>Feminine Hygiene</th>\n",
       "      <th>Folic Acid</th>\n",
       "      <th>Prenatal Vitamins</th>\n",
       "      <th>Prenatal Yoga</th>\n",
       "      <th>Body Pillow</th>\n",
       "      <th>Ginger Ale</th>\n",
       "      <th>Sea Bands</th>\n",
       "      <th>Stopped buying ciggies</th>\n",
       "      <th>Cigarettes</th>\n",
       "      <th>Smoking Cessation</th>\n",
       "      <th>Stopped buying wine</th>\n",
       "      <th>Wine</th>\n",
       "      <th>Maternity Clothes</th>\n",
       "      <th>PREGNANT</th>\n",
       "    </tr>\n",
       "  </thead>\n",
       "  <tbody>\n",
       "    <tr>\n",
       "      <th>0</th>\n",
       "      <td>M</td>\n",
       "      <td>A</td>\n",
       "      <td>1</td>\n",
       "      <td>0</td>\n",
       "      <td>0</td>\n",
       "      <td>0</td>\n",
       "      <td>1</td>\n",
       "      <td>0</td>\n",
       "      <td>0</td>\n",
       "      <td>0</td>\n",
       "      <td>0</td>\n",
       "      <td>0</td>\n",
       "      <td>0</td>\n",
       "      <td>0</td>\n",
       "      <td>0</td>\n",
       "      <td>0</td>\n",
       "      <td>0</td>\n",
       "      <td>1</td>\n",
       "    </tr>\n",
       "    <tr>\n",
       "      <th>1</th>\n",
       "      <td>M</td>\n",
       "      <td>H</td>\n",
       "      <td>1</td>\n",
       "      <td>0</td>\n",
       "      <td>0</td>\n",
       "      <td>0</td>\n",
       "      <td>1</td>\n",
       "      <td>0</td>\n",
       "      <td>0</td>\n",
       "      <td>0</td>\n",
       "      <td>0</td>\n",
       "      <td>0</td>\n",
       "      <td>0</td>\n",
       "      <td>0</td>\n",
       "      <td>0</td>\n",
       "      <td>0</td>\n",
       "      <td>0</td>\n",
       "      <td>1</td>\n",
       "    </tr>\n",
       "    <tr>\n",
       "      <th>2</th>\n",
       "      <td>M</td>\n",
       "      <td>H</td>\n",
       "      <td>1</td>\n",
       "      <td>0</td>\n",
       "      <td>0</td>\n",
       "      <td>0</td>\n",
       "      <td>0</td>\n",
       "      <td>0</td>\n",
       "      <td>0</td>\n",
       "      <td>0</td>\n",
       "      <td>1</td>\n",
       "      <td>0</td>\n",
       "      <td>0</td>\n",
       "      <td>0</td>\n",
       "      <td>0</td>\n",
       "      <td>0</td>\n",
       "      <td>0</td>\n",
       "      <td>1</td>\n",
       "    </tr>\n",
       "    <tr>\n",
       "      <th>3</th>\n",
       "      <td>U</td>\n",
       "      <td>H</td>\n",
       "      <td>0</td>\n",
       "      <td>0</td>\n",
       "      <td>0</td>\n",
       "      <td>0</td>\n",
       "      <td>0</td>\n",
       "      <td>0</td>\n",
       "      <td>0</td>\n",
       "      <td>1</td>\n",
       "      <td>0</td>\n",
       "      <td>0</td>\n",
       "      <td>0</td>\n",
       "      <td>0</td>\n",
       "      <td>0</td>\n",
       "      <td>0</td>\n",
       "      <td>0</td>\n",
       "      <td>1</td>\n",
       "    </tr>\n",
       "    <tr>\n",
       "      <th>4</th>\n",
       "      <td>F</td>\n",
       "      <td>A</td>\n",
       "      <td>0</td>\n",
       "      <td>0</td>\n",
       "      <td>0</td>\n",
       "      <td>0</td>\n",
       "      <td>0</td>\n",
       "      <td>1</td>\n",
       "      <td>0</td>\n",
       "      <td>0</td>\n",
       "      <td>0</td>\n",
       "      <td>0</td>\n",
       "      <td>0</td>\n",
       "      <td>0</td>\n",
       "      <td>1</td>\n",
       "      <td>0</td>\n",
       "      <td>0</td>\n",
       "      <td>1</td>\n",
       "    </tr>\n",
       "  </tbody>\n",
       "</table>\n",
       "</div>"
      ],
      "text/plain": [
       "  Implied Gender Home/Apt/ PO Box  Pregnancy Test  Birth Control  \\\n",
       "0              M                A               1              0   \n",
       "1              M                H               1              0   \n",
       "2              M                H               1              0   \n",
       "3              U                H               0              0   \n",
       "4              F                A               0              0   \n",
       "\n",
       "   Feminine Hygiene  Folic Acid  Prenatal Vitamins  Prenatal Yoga  \\\n",
       "0                 0           0                  1              0   \n",
       "1                 0           0                  1              0   \n",
       "2                 0           0                  0              0   \n",
       "3                 0           0                  0              0   \n",
       "4                 0           0                  0              1   \n",
       "\n",
       "   Body Pillow  Ginger Ale  Sea Bands  Stopped buying ciggies  Cigarettes  \\\n",
       "0            0           0          0                       0           0   \n",
       "1            0           0          0                       0           0   \n",
       "2            0           0          1                       0           0   \n",
       "3            0           1          0                       0           0   \n",
       "4            0           0          0                       0           0   \n",
       "\n",
       "   Smoking Cessation  Stopped buying wine  Wine  Maternity Clothes  PREGNANT  \n",
       "0                  0                    0     0                  0         1  \n",
       "1                  0                    0     0                  0         1  \n",
       "2                  0                    0     0                  0         1  \n",
       "3                  0                    0     0                  0         1  \n",
       "4                  0                    1     0                  0         1  "
      ]
     },
     "execution_count": 2,
     "metadata": {},
     "output_type": "execute_result"
    }
   ],
   "source": [
    "# load data set\n",
    "preg = pd.read_excel('RetailMart.xlsx')\n",
    "preg.drop('Unnamed: 17', inplace=True, axis=1) # remove null column\n",
    "preg.head()"
   ]
  },
  {
   "cell_type": "markdown",
   "metadata": {},
   "source": [
    "### 4.1. Univariate Analysis\n",
    "\n",
    "Feature names are mostly self-explanatory. Below some details:\n",
    "\n",
    "- **Implied Gender**: M (male), F (female) or U (unknown)\n",
    "- **Wine** and **Cigarettes** mean 'recently bought' wine/cigarettes\n",
    "- **Home/Apt/PO** assumes three values: H = account holder address is home, A = aprtment, P = PO box\n",
    "\n",
    "All features are binary or discrete variables, so univariate analysis is quite easy: we can plot the *pregnancy rate* for each value of each feature."
   ]
  },
  {
   "cell_type": "code",
   "execution_count": 6,
   "metadata": {},
   "outputs": [
    {
     "data": {
      "image/png": "[encoded data removed]",
      "text/plain": [
       "<Figure size 360x360 with 1 Axes>"
      ]
     },
     "metadata": {
      "needs_background": "light"
     },
     "output_type": "display_data"
    },
    {
     "data": {
      "image/png": "[encoded data removed]",
      "text/plain": [
       "<Figure size 360x360 with 1 Axes>"
      ]
     },
     "metadata": {
      "needs_background": "light"
     },
     "output_type": "display_data"
    },
    {
     "data": {
      "image/png": "[encoded data removed]",
      "text/plain": [
       "<Figure size 360x360 with 1 Axes>"
      ]
     },
     "metadata": {
      "needs_background": "light"
     },
     "output_type": "display_data"
    },
    {
     "data": {
      "image/png": "[encoded data removed]",
      "text/plain": [
       "<Figure size 360x360 with 1 Axes>"
      ]
     },
     "metadata": {
      "needs_background": "light"
     },
     "output_type": "display_data"
    },
    {
     "data": {
      "image/png": "[encoded data removed]",
      "text/plain": [
       "<Figure size 360x360 with 1 Axes>"
      ]
     },
     "metadata": {
      "needs_background": "light"
     },
     "output_type": "display_data"
    },
    {
     "data": {
      "image/png": "[encoded data removed]",
      "text/plain": [
       "<Figure size 360x360 with 1 Axes>"
      ]
     },
     "metadata": {
      "needs_background": "light"
     },
     "output_type": "display_data"
    },
    {
     "data": {
      "image/png": "[encoded data removed]",
      "text/plain": [
       "<Figure size 360x360 with 1 Axes>"
      ]
     },
     "metadata": {
      "needs_background": "light"
     },
     "output_type": "display_data"
    },
    {
     "data": {
      "image/png": "[encoded data removed]",
      "text/plain": [
       "<Figure size 360x360 with 1 Axes>"
      ]
     },
     "metadata": {
      "needs_background": "light"
     },
     "output_type": "display_data"
    },
    {
     "data": {
      "image/png": "[encoded data removed]",
      "text/plain": [
       "<Figure size 360x360 with 1 Axes>"
      ]
     },
     "metadata": {
      "needs_background": "light"
     },
     "output_type": "display_data"
    },
    {
     "data": {
      "image/png": "[encoded data removed]",
      "text/plain": [
       "<Figure size 360x360 with 1 Axes>"
      ]
     },
     "metadata": {
      "needs_background": "light"
     },
     "output_type": "display_data"
    },
    {
     "data": {
      "image/png": "[encoded data removed]",
      "text/plain": [
       "<Figure size 360x360 with 1 Axes>"
      ]
     },
     "metadata": {
      "needs_background": "light"
     },
     "output_type": "display_data"
    },
    {
     "data": {
      "image/png": "[encoded data removed]",
      "text/plain": [
       "<Figure size 360x360 with 1 Axes>"
      ]
     },
     "metadata": {
      "needs_background": "light"
     },
     "output_type": "display_data"
    },
    {
     "data": {
      "image/png": "[encoded data removed]",
      "text/plain": [
       "<Figure size 360x360 with 1 Axes>"
      ]
     },
     "metadata": {
      "needs_background": "light"
     },
     "output_type": "display_data"
    },
    {
     "data": {
      "image/png": "[encoded data removed]",
      "text/plain": [
       "<Figure size 360x360 with 1 Axes>"
      ]
     },
     "metadata": {
      "needs_background": "light"
     },
     "output_type": "display_data"
    },
    {
     "data": {
      "image/png": "[encoded data removed]",
      "text/plain": [
       "<Figure size 360x360 with 1 Axes>"
      ]
     },
     "metadata": {
      "needs_background": "light"
     },
     "output_type": "display_data"
    },
    {
     "data": {
      "image/png": "[encoded data removed]",
      "text/plain": [
       "<Figure size 360x360 with 1 Axes>"
      ]
     },
     "metadata": {
      "needs_background": "light"
     },
     "output_type": "display_data"
    },
    {
     "data": {
      "image/png": "[encoded data removed]",
      "text/plain": [
       "<Figure size 360x360 with 1 Axes>"
      ]
     },
     "metadata": {
      "needs_background": "light"
     },
     "output_type": "display_data"
    }
   ],
   "source": [
    "features = list(preg.columns)\n",
    "features.remove('PREGNANT')\n",
    "\n",
    "for feature in features:\n",
    "    sns.catplot(data=preg, kind='bar', x = feature, y='PREGNANT', ci=None)"
   ]
  },
  {
   "cell_type": "markdown",
   "metadata": {},
   "source": [
    "### 4.2. Feature Manipulaton"
   ]
  },
  {
   "cell_type": "markdown",
   "metadata": {},
   "source": [
    "From univariate analysis, almost all of the variables look predictive except **Home/Apt/ PO Box** variable which we will drop. Also **Implied Gender** seems to imply only that males are less likely to be pregnant, so we will create a dummy variable for 'Implied Gender = M'."
   ]
  },
  {
   "cell_type": "code",
   "execution_count": 7,
   "metadata": {},
   "outputs": [],
   "source": [
    "preg['Male'] = (preg['Implied Gender'] == 'M').astype(int)\n",
    "preg.drop(['Implied Gender', 'Home/Apt/ PO Box'], axis=1, inplace=True)"
   ]
  },
  {
   "cell_type": "code",
   "execution_count": 8,
   "metadata": {},
   "outputs": [],
   "source": [
    "X = preg.drop('PREGNANT', axis=1)\n",
    "X.insert(loc=0, column='Intercept', value=1)\n",
    "y = preg['PREGNANT']"
   ]
  },
  {
   "cell_type": "markdown",
   "metadata": {},
   "source": [
    "### 4.3. Linear Probability Model (LPM)"
   ]
  },
  {
   "cell_type": "markdown",
   "metadata": {},
   "source": [
    "We start with the simplest model, the so called Linear probability model. It hase the form:\n",
    "\n",
    "$$\\mathbb{E}[y_i] = \\mathbf{x}_i^T \\mathbf{\\beta}$$\n",
    "\n",
    "It is essentially a linea regression of the pregnancy probability on the features. The only drawback is that it can predict probabilities outside of the $[0, 1]$ range.\n",
    "\n",
    "We start by splitting the data set in training and test samples."
   ]
  },
  {
   "cell_type": "code",
   "execution_count": 10,
   "metadata": {},
   "outputs": [],
   "source": [
    "# split train and test datasets\n",
    "dim_train = 330\n",
    "dim_test = 170 # c.a. 2/3 train, 1/3 test for each value of PREGNANT\n",
    "\n",
    "X_train0 = X[y==0].sample(n=dim_train)\n",
    "X_test0 = X[y==0].drop(X_train0.index, axis=0)\n",
    "\n",
    "X_train1 = X[y==1].sample(n=dim_train)\n",
    "X_test1 = X[y==1].drop(X_train1.index, axis=0)\n",
    "\n",
    "X_train = X_train0.append(X_train1)\n",
    "X_test = X_test0.append(X_test1)\n",
    "y_train= y[X_train.index]\n",
    "y_test = y[X_test.index]"
   ]
  },
  {
   "cell_type": "code",
   "execution_count": 11,
   "metadata": {},
   "outputs": [],
   "source": [
    "# fit linear regression\n",
    "lpm = LinReg()\n",
    "lpm.fit(X_train,y_train)\n",
    "p_hat = lpm.predict(X_test)"
   ]
  },
  {
   "cell_type": "markdown",
   "metadata": {},
   "source": [
    "We can look at a summary of our regression: all features are significant and the signs are as expected (e.g. **Pregnancy Test**'s beta is positive while **Birth Control**'s is negative)."
   ]
  },
  {
   "cell_type": "code",
   "execution_count": 39,
   "metadata": {},
   "outputs": [
    {
     "data": {
      "text/html": [
       "<div>\n",
       "<style scoped>\n",
       "    .dataframe tbody tr th:only-of-type {\n",
       "        vertical-align: middle;\n",
       "    }\n",
       "\n",
       "    .dataframe tbody tr th {\n",
       "        vertical-align: top;\n",
       "    }\n",
       "\n",
       "    .dataframe thead th {\n",
       "        text-align: right;\n",
       "    }\n",
       "</style>\n",
       "<table border=\"1\" class=\"dataframe\">\n",
       "  <thead>\n",
       "    <tr style=\"text-align: right;\">\n",
       "      <th></th>\n",
       "      <th>Variable</th>\n",
       "      <th>Coeff.</th>\n",
       "      <th>Std. error:</th>\n",
       "      <th>P-value</th>\n",
       "    </tr>\n",
       "  </thead>\n",
       "  <tbody>\n",
       "    <tr>\n",
       "      <th>0</th>\n",
       "      <td>Intercept</td>\n",
       "      <td>0.425097</td>\n",
       "      <td>0.030170</td>\n",
       "      <td>1.733006e-39</td>\n",
       "    </tr>\n",
       "    <tr>\n",
       "      <th>1</th>\n",
       "      <td>Pregnancy Test</td>\n",
       "      <td>0.270530</td>\n",
       "      <td>0.047160</td>\n",
       "      <td>1.489361e-08</td>\n",
       "    </tr>\n",
       "    <tr>\n",
       "      <th>2</th>\n",
       "      <td>Birth Control</td>\n",
       "      <td>-0.290500</td>\n",
       "      <td>0.032799</td>\n",
       "      <td>7.973047e-18</td>\n",
       "    </tr>\n",
       "    <tr>\n",
       "      <th>3</th>\n",
       "      <td>Feminine Hygiene</td>\n",
       "      <td>-0.279509</td>\n",
       "      <td>0.032814</td>\n",
       "      <td>1.150109e-16</td>\n",
       "    </tr>\n",
       "    <tr>\n",
       "      <th>4</th>\n",
       "      <td>Folic Acid</td>\n",
       "      <td>0.321675</td>\n",
       "      <td>0.035604</td>\n",
       "      <td>1.901592e-18</td>\n",
       "    </tr>\n",
       "    <tr>\n",
       "      <th>5</th>\n",
       "      <td>Prenatal Vitamins</td>\n",
       "      <td>0.299039</td>\n",
       "      <td>0.036131</td>\n",
       "      <td>7.328808e-16</td>\n",
       "    </tr>\n",
       "    <tr>\n",
       "      <th>6</th>\n",
       "      <td>Prenatal Yoga</td>\n",
       "      <td>0.415687</td>\n",
       "      <td>0.076904</td>\n",
       "      <td>9.128684e-08</td>\n",
       "    </tr>\n",
       "    <tr>\n",
       "      <th>7</th>\n",
       "      <td>Body Pillow</td>\n",
       "      <td>0.207572</td>\n",
       "      <td>0.064674</td>\n",
       "      <td>1.395718e-03</td>\n",
       "    </tr>\n",
       "    <tr>\n",
       "      <th>8</th>\n",
       "      <td>Ginger Ale</td>\n",
       "      <td>0.232179</td>\n",
       "      <td>0.053944</td>\n",
       "      <td>1.938187e-05</td>\n",
       "    </tr>\n",
       "    <tr>\n",
       "      <th>9</th>\n",
       "      <td>Sea Bands</td>\n",
       "      <td>0.157262</td>\n",
       "      <td>0.087452</td>\n",
       "      <td>7.260227e-02</td>\n",
       "    </tr>\n",
       "    <tr>\n",
       "      <th>10</th>\n",
       "      <td>Stopped buying ciggies</td>\n",
       "      <td>0.157856</td>\n",
       "      <td>0.047569</td>\n",
       "      <td>9.562440e-04</td>\n",
       "    </tr>\n",
       "    <tr>\n",
       "      <th>11</th>\n",
       "      <td>Cigarettes</td>\n",
       "      <td>-0.150714</td>\n",
       "      <td>0.039728</td>\n",
       "      <td>1.624823e-04</td>\n",
       "    </tr>\n",
       "    <tr>\n",
       "      <th>12</th>\n",
       "      <td>Smoking Cessation</td>\n",
       "      <td>0.136698</td>\n",
       "      <td>0.056198</td>\n",
       "      <td>1.526993e-02</td>\n",
       "    </tr>\n",
       "    <tr>\n",
       "      <th>13</th>\n",
       "      <td>Stopped buying wine</td>\n",
       "      <td>0.154037</td>\n",
       "      <td>0.040938</td>\n",
       "      <td>1.834826e-04</td>\n",
       "    </tr>\n",
       "    <tr>\n",
       "      <th>14</th>\n",
       "      <td>Wine</td>\n",
       "      <td>-0.181321</td>\n",
       "      <td>0.037619</td>\n",
       "      <td>1.794299e-06</td>\n",
       "    </tr>\n",
       "    <tr>\n",
       "      <th>15</th>\n",
       "      <td>Maternity Clothes</td>\n",
       "      <td>0.244836</td>\n",
       "      <td>0.037811</td>\n",
       "      <td>1.880941e-10</td>\n",
       "    </tr>\n",
       "    <tr>\n",
       "      <th>16</th>\n",
       "      <td>Male</td>\n",
       "      <td>-0.054678</td>\n",
       "      <td>0.028294</td>\n",
       "      <td>5.373829e-02</td>\n",
       "    </tr>\n",
       "  </tbody>\n",
       "</table>\n",
       "</div>"
      ],
      "text/plain": [
       "                  Variable    Coeff.  Std. error:       P-value\n",
       "0                Intercept  0.425097     0.030170  1.733006e-39\n",
       "1           Pregnancy Test  0.270530     0.047160  1.489361e-08\n",
       "2            Birth Control -0.290500     0.032799  7.973047e-18\n",
       "3         Feminine Hygiene -0.279509     0.032814  1.150109e-16\n",
       "4               Folic Acid  0.321675     0.035604  1.901592e-18\n",
       "5        Prenatal Vitamins  0.299039     0.036131  7.328808e-16\n",
       "6            Prenatal Yoga  0.415687     0.076904  9.128684e-08\n",
       "7              Body Pillow  0.207572     0.064674  1.395718e-03\n",
       "8               Ginger Ale  0.232179     0.053944  1.938187e-05\n",
       "9                Sea Bands  0.157262     0.087452  7.260227e-02\n",
       "10  Stopped buying ciggies  0.157856     0.047569  9.562440e-04\n",
       "11              Cigarettes -0.150714     0.039728  1.624823e-04\n",
       "12       Smoking Cessation  0.136698     0.056198  1.526993e-02\n",
       "13     Stopped buying wine  0.154037     0.040938  1.834826e-04\n",
       "14                    Wine -0.181321     0.037619  1.794299e-06\n",
       "15       Maternity Clothes  0.244836     0.037811  1.880941e-10\n",
       "16                    Male -0.054678     0.028294  5.373829e-02"
      ]
     },
     "execution_count": 39,
     "metadata": {},
     "output_type": "execute_result"
    }
   ],
   "source": [
    "# Regression results\n",
    "summary = pd.DataFrame({'Variable': X_train.columns, 'Coeff.': lpm.beta, 'Std. error:': lpm.se, 'P-value': lpm.p})\n",
    "summary.head(X_train.shape[1])"
   ]
  },
  {
   "cell_type": "markdown",
   "metadata": {},
   "source": [
    "Another way to assess the model is to check how many predictions fall out of range:"
   ]
  },
  {
   "cell_type": "code",
   "execution_count": 23,
   "metadata": {},
   "outputs": [
    {
     "name": "stdout",
     "output_type": "stream",
     "text": [
      "Percentage of predicted probs. out of range = 15.00%\n"
     ]
    }
   ],
   "source": [
    "out_of_range_pct = np.sum((p_hat > 1) | (p_hat < 0)) / len(p_hat) # % out of boundary\n",
    "print('Percentage of predicted probs. out of range = {:.2f}%'.format(out_of_range_pct * 100))"
   ]
  },
  {
   "cell_type": "code",
   "execution_count": 41,
   "metadata": {
    "scrolled": true
   },
   "outputs": [
    {
     "data": {
      "text/plain": [
       "<matplotlib.lines.Line2D at 0x21f41d480d0>"
      ]
     },
     "execution_count": 41,
     "metadata": {},
     "output_type": "execute_result"
    },
    {
     "data": {
      "image/png": "[encoded data removed]",
      "text/plain": [
       "<Figure size 432x288 with 1 Axes>"
      ]
     },
     "metadata": {
      "needs_background": "light"
     },
     "output_type": "display_data"
    }
   ],
   "source": [
    "fig = sns.distplot(p_hat)\n",
    "fig.axvline(x=0, color='red', linestyle='--')\n",
    "fig.axvline(x=1, color='red', linestyle='--')"
   ]
  },
  {
   "cell_type": "markdown",
   "metadata": {},
   "source": [
    "Finally, we can compute the *Accuracy* (i.e. the percentage of correctly classifed instances) and the AUC (Area Under The Curve)."
   ]
  },
  {
   "cell_type": "code",
   "execution_count": 45,
   "metadata": {},
   "outputs": [
    {
     "name": "stdout",
     "output_type": "stream",
     "text": [
      "Accuracy(% correctly classified) = 85.88%\n"
     ]
    }
   ],
   "source": [
    "y_hat = (p_hat > 0.5).astype(int)\n",
    "Accuracy = np.mean(y_hat == y_test) # Accuracy\n",
    "print('Accuracy(% correctly classified) = {:.2f}%'.format(Accuracy * 100))"
   ]
  },
  {
   "cell_type": "code",
   "execution_count": 37,
   "metadata": {},
   "outputs": [],
   "source": [
    "# helper function to compute AUC and draw ROC curve\n",
    "def auc(score, y_test, lower=-3, upper=3, bins=100, print_curve=False):\n",
    "    s = np.linspace(lower, upper, bins)\n",
    "    xx = []\n",
    "    yy = []\n",
    "\n",
    "    for cutoff in s:\n",
    "        y_hat = (score > cutoff).astype(int)\n",
    "        xx.append(sum(y_hat[y_test==0]==1) / sum(y_test==0))\n",
    "        yy.append(sum(y_hat[y_test==1]==1) / sum(y_test==1))\n",
    "    area=0\n",
    "    for i in range(1, len(xx)):\n",
    "        area += 0.5 * np.abs(xx[i] - xx[i-1]) * (yy[i-1] + yy[i])\n",
    "\n",
    "    if print_curve:\n",
    "        plt.plot(xx,yy)\n",
    "        plt.fill_between(xx,yy, alpha=0.05)\n",
    "        plt.xlim([0,1])\n",
    "        plt.ylim([0,1])\n",
    "        plt.xlabel(\"FPR (1 - specificity)\")\n",
    "        plt.ylabel(\"TPR (sensitivity)\")\n",
    "        plt.text(0.5,0.5,'AUC = {:.2f}%'.format(area*100), fontsize=16)\n",
    "    else:\n",
    "        return area"
   ]
  },
  {
   "cell_type": "code",
   "execution_count": 38,
   "metadata": {},
   "outputs": [
    {
     "data": {
      "image/png": "[encoded data removed]",
      "text/plain": [
       "<Figure size 432x288 with 1 Axes>"
      ]
     },
     "metadata": {
      "needs_background": "light"
     },
     "output_type": "display_data"
    }
   ],
   "source": [
    "auc(p_hat, y_test, print_curve=True)"
   ]
  },
  {
   "cell_type": "markdown",
   "metadata": {},
   "source": [
    "### 4.4. Simple Logistic Regression"
   ]
  },
  {
   "cell_type": "markdown",
   "metadata": {},
   "source": [
    "A more appropriate way to model probabilities is the logistic model, a Generalized Linear Model (GLM) of the form:\n",
    "\n",
    "$$\\mathbb{E}[y_i] = g(\\mathbf{x}_i^T \\mathbf{\\beta})$$\n",
    "\n",
    "where $g$ is the well-known sigmoid function, i.e. $g(z) = 1/(1+ e^{-z})$:"
   ]
  },
  {
   "cell_type": "code",
   "execution_count": 3,
   "metadata": {},
   "outputs": [
    {
     "data": {
      "image/png": "[encoded data removed]",
      "text/plain": [
       "<Figure size 432x288 with 1 Axes>"
      ]
     },
     "metadata": {
      "needs_background": "light"
     },
     "output_type": "display_data"
    }
   ],
   "source": [
    "z = np.linspace(-10,10, 500)\n",
    "g = 1/(1 + np.exp(-z))\n",
    "plt.plot(z,g)\n",
    "plt.grid(10)"
   ]
  },
  {
   "cell_type": "markdown",
   "metadata": {},
   "source": [
    "It can be fitting via maximum-likelihood, the log-likelihood being:\n",
    "\n",
    "$$ \\mathcal{L} = \\log L = \\frac{1}{n} \\sum_{i=1}^n \\left[ y_i \\log g(\\mathbf{x}_i \\mathbf{\\beta}) + (1-y_i) \\log (1 - g(\\mathbf{x}_i \\mathbf{\\beta})) \\right]$$ "
   ]
  },
  {
   "cell_type": "code",
   "execution_count": 41,
   "metadata": {},
   "outputs": [],
   "source": [
    "lreg = LogReg()\n",
    "lreg.fit(X_train, y_train)\n",
    "p_hat = lreg.predict(X_test)"
   ]
  },
  {
   "cell_type": "code",
   "execution_count": 44,
   "metadata": {},
   "outputs": [
    {
     "name": "stdout",
     "output_type": "stream",
     "text": [
      "Accuracy(% correctly classified) = 85.88%\n"
     ]
    }
   ],
   "source": [
    "y_hat = (p_hat > 0.5).astype(int)\n",
    "Accuracy = np.mean(y_hat == y_test) # Accuracy\n",
    "print('Accuracy(% correctly classified) = {:.2f}%'.format(Accuracy * 100))"
   ]
  },
  {
   "cell_type": "code",
   "execution_count": 43,
   "metadata": {
    "scrolled": true
   },
   "outputs": [
    {
     "data": {
      "image/png": "[encoded data removed]",
      "text/plain": [
       "<Figure size 432x288 with 1 Axes>"
      ]
     },
     "metadata": {
      "needs_background": "light"
     },
     "output_type": "display_data"
    }
   ],
   "source": [
    "auc(p_hat, y_test, print_curve=True)"
   ]
  },
  {
   "cell_type": "markdown",
   "metadata": {},
   "source": [
    "Actually not a great improvement on the LPM."
   ]
  },
  {
   "cell_type": "markdown",
   "metadata": {},
   "source": [
    "### 4.5. Logistic Regression With Hyper-parameter Optimization\n"
   ]
  },
  {
   "cell_type": "markdown",
   "metadata": {},
   "source": [
    "We can add a touch of sophistication using a regularizing factor the loglikelihodd:\n",
    "\n",
    "$$ \\mathcal{L}_{reg} = \\mathcal{L} + \\frac{1}{2} \\alpha \\lVert \\mathbf{\\beta} \\rVert ^2$$\n",
    "\n",
    "Also, we can try to find the best hyper-parameters $\\alpha$ and $\\gamma$ (learning rate of the gradient descent). We will use a basic grid-search. In this case we need to split the sample in three subsamples:\n",
    "\n",
    "- Training data set (50%)\n",
    "- Test data set (25%), which we use to fine-tune the hyper-parameters\n",
    "- Validation data set (25%), which we use to actually test the out-of-sample performance of the model"
   ]
  },
  {
   "cell_type": "code",
   "execution_count": 46,
   "metadata": {},
   "outputs": [],
   "source": [
    "dim_train = 250\n",
    "dim_test = 125\n",
    "dim_valid = 125 # 50% train, 25% test, 25% validation\n",
    "\n",
    "X_train0 = X[y==0].sample(n=dim_train)\n",
    "X_test0 = X[y==0].drop(X_train0.index, axis=0).sample(n=dim_test)\n",
    "X_valid0 = X[y==0].drop(X_train0.index, axis=0).drop(X_test0.index, axis=0)\n",
    "\n",
    "X_train1 = X[y==1].sample(n=dim_train)\n",
    "X_test1 = X[y==1].drop(X_train1.index, axis=0).sample(n=dim_test)\n",
    "X_valid1 = X[y==1].drop(X_train1.index, axis=0).drop(X_test1.index, axis=0)\n",
    "\n",
    "\n",
    "X_train = X_train0.append(X_train1)\n",
    "X_test = X_test0.append(X_test1)\n",
    "X_valid = X_valid0.append(X_valid1)\n",
    "y_train= y[X_train.index]\n",
    "y_test = y[X_test.index]\n",
    "y_valid = y[X_valid.index]"
   ]
  },
  {
   "cell_type": "code",
   "execution_count": 65,
   "metadata": {
    "scrolled": true
   },
   "outputs": [],
   "source": [
    "# hyper-parameter optimization via grid-search\n",
    "alpha = np.linspace(0,1,11)\n",
    "gamma = np.linspace(0.005, 0.2, 11)\n",
    "grid_search = np.zeros([len(alpha), len(gamma)])\n",
    "for i in range(len(alpha)):\n",
    "    for j in range(len(gamma)):\n",
    "        lreg.fit(X_train, y_train, alpha=alpha[i], gamma=gamma[j])\n",
    "        grid_search[i][j] = auc(lreg.predict(X_test), y_test)"
   ]
  },
  {
   "cell_type": "code",
   "execution_count": 66,
   "metadata": {},
   "outputs": [
    {
     "name": "stdout",
     "output_type": "stream",
     "text": [
      "argmax = (0, 5)\n"
     ]
    }
   ],
   "source": [
    "arg_max = np.unravel_index(grid_search.argmax(), grid_search.shape)\n",
    "print(f'argmax = {arg_max}')"
   ]
  },
  {
   "cell_type": "code",
   "execution_count": 67,
   "metadata": {},
   "outputs": [],
   "source": [
    "lreg.fit(X_train, y_train, alpha=alpha[2], gamma=gamma[0])\n",
    "p_hat = lreg.predict(X_valid)"
   ]
  },
  {
   "cell_type": "code",
   "execution_count": 68,
   "metadata": {},
   "outputs": [
    {
     "name": "stdout",
     "output_type": "stream",
     "text": [
      "Accuracy(% correctly classified) = 86.40%\n"
     ]
    }
   ],
   "source": [
    "y_hat = (p_hat > 0.5).astype(int)\n",
    "Accuracy = np.mean(y_hat == y_test) # Accuracy\n",
    "print('Accuracy(% correctly classified) = {:.2f}%'.format(Accuracy * 100))"
   ]
  },
  {
   "cell_type": "code",
   "execution_count": 69,
   "metadata": {
    "scrolled": true
   },
   "outputs": [
    {
     "data": {
      "image/png": "[encoded data removed]",
      "text/plain": [
       "<Figure size 432x288 with 1 Axes>"
      ]
     },
     "metadata": {
      "needs_background": "light"
     },
     "output_type": "display_data"
    }
   ],
   "source": [
    "auc(p_hat, y_valid, print_curve=True)"
   ]
  },
  {
   "cell_type": "markdown",
   "metadata": {},
   "source": [
    "## 5. Conclusions"
   ]
  },
  {
   "cell_type": "markdown",
   "metadata": {},
   "source": [
    " - LPM works fine, simple logistic does not add much in terms of performance\n",
    " - Not much gained in regularization with hyper-parmeter fine-tuning either\n",
    " - One important caveat: this is a very simple (and more importantly simulated) data set, so the data is pretty good. In reality, with noisier data, we would expect logistic regression to work better than LPM and with really scarce data Ridge logistic to outperform simple logistic."
   ]
  }
 ],
 "metadata": {
  "kernelspec": {
   "display_name": "Python 3",
   "language": "python",
   "name": "python3"
  },
  "language_info": {
   "codemirror_mode": {
    "name": "ipython",
    "version": 3
   },
   "file_extension": ".py",
   "mimetype": "text/x-python",
   "name": "python",
   "nbconvert_exporter": "python",
   "pygments_lexer": "ipython3",
   "version": "3.7.9"
  }
 },
 "nbformat": 4,
 "nbformat_minor": 4
}
